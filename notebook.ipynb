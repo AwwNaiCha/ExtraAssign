{
 "cells": [
  {
   "cell_type": "code",
   "execution_count": 67,
   "metadata": {
    "collapsed": true
   },
   "outputs": [],
   "source": [
    "def set_hadoop_config(credentials):\n",
    "    prefix = \"fs.swift.service.\" + credentials['name'] \n",
    "    hconf = sc._jsc.hadoopConfiguration()\n",
    "    hconf.set(prefix + \".auth.url\", credentials['auth_url']+'/v2.0/tokens')\n",
    "    hconf.set(prefix + \".auth.endpoint.prefix\", \"endpoints\")\n",
    "    hconf.set(prefix + \".tenant\", credentials['project_id'])\n",
    "    hconf.set(prefix + \".username\", credentials['user_id'])\n",
    "    hconf.set(prefix + \".password\", credentials['password'])\n",
    "    hconf.setInt(prefix + \".http.port\", 8080)\n",
    "    hconf.set(prefix + \".region\", credentials['region'])\n",
    "    hconf.setBoolean(prefix + \".public\", True)"
   ]
  },
  {
   "cell_type": "code",
   "execution_count": 68,
   "metadata": {
    "collapsed": false
   },
   "outputs": [],
   "source": [
    "credentials = {}\n",
    "credentials['name'] = 'babyname'\n",
    "credentials['auth_url'] = 'https://identity.open.softlayer.com'\n",
    "credentials['project_id'] = 'd52e3ad444ef41fbb722ea38367545f3'\n",
    "credentials['region'] = 'dallas'\n",
    "credentials['user_id'] = '9d5332bf2ad04b84955ff96edc89e828'\n",
    "credentials['password'] = 't~N.j[SKL1=qN(b3'"
   ]
  },
  {
   "cell_type": "code",
   "execution_count": 69,
   "metadata": {
    "collapsed": false
   },
   "outputs": [],
   "source": [
    "set_hadoop_config(credentials)"
   ]
  },
  {
   "cell_type": "code",
   "execution_count": 70,
   "metadata": {
    "collapsed": false
   },
   "outputs": [],
   "source": [
    "name = sc.textFile(\"swift://notebooks.babyname/name.csv\")"
   ]
  },
  {
   "cell_type": "code",
   "execution_count": 72,
   "metadata": {
    "collapsed": false
   },
   "outputs": [
    {
     "name": "stdout",
     "output_type": "stream",
     "text": [
      "Total records in the name.csv dataset: 2088\n"
     ]
    }
   ],
   "source": [
    "print \"Total records in the name.csv dataset:\", name.count()"
   ]
  },
  {
   "cell_type": "code",
   "execution_count": 73,
   "metadata": {
    "collapsed": false
   },
   "outputs": [
    {
     "name": "stdout",
     "output_type": "stream",
     "text": [
      "The first row in the name.csv dataset: NAME,2014,2013,GENDER\n"
     ]
    }
   ],
   "source": [
    "print \"The first row in the name.csv dataset:\", name.first()"
   ]
  },
  {
   "cell_type": "code",
   "execution_count": 74,
   "metadata": {
    "collapsed": true
   },
   "outputs": [],
   "source": [
    "nameParse = name.map(lambda line : line.split(\",\"))"
   ]
  },
  {
   "cell_type": "code",
   "execution_count": 75,
   "metadata": {
    "collapsed": false
   },
   "outputs": [
    {
     "data": {
      "text/plain": [
       "[u'NAME', u'2014', u'2013', u'GENDER']"
      ]
     },
     "execution_count": 75,
     "metadata": {},
     "output_type": "execute_result"
    }
   ],
   "source": [
    "nameParse.first()"
   ]
  },
  {
   "cell_type": "code",
   "execution_count": 76,
   "metadata": {
    "collapsed": false
   },
   "outputs": [
    {
     "data": {
      "text/plain": [
       "u'NAME'"
      ]
     },
     "execution_count": 76,
     "metadata": {},
     "output_type": "execute_result"
    }
   ],
   "source": [
    "nameParse.first()[0]"
   ]
  },
  {
   "cell_type": "code",
   "execution_count": 77,
   "metadata": {
    "collapsed": false
   },
   "outputs": [
    {
     "data": {
      "text/plain": [
       "u'2013'"
      ]
     },
     "execution_count": 77,
     "metadata": {},
     "output_type": "execute_result"
    }
   ],
   "source": [
    "nameParse.first()[2]"
   ]
  },
  {
   "cell_type": "code",
   "execution_count": 78,
   "metadata": {
    "collapsed": true
   },
   "outputs": [],
   "source": [
    "boyname = nameParse.filter(lambda x: x[3] == \"M\")"
   ]
  },
  {
   "cell_type": "code",
   "execution_count": 79,
   "metadata": {
    "collapsed": false
   },
   "outputs": [
    {
     "data": {
      "text/plain": [
       "[u'Bode', u'783', u'1428', u'M']"
      ]
     },
     "execution_count": 79,
     "metadata": {},
     "output_type": "execute_result"
    }
   ],
   "source": [
    "boyname.first()"
   ]
  },
  {
   "cell_type": "code",
   "execution_count": 80,
   "metadata": {
    "collapsed": true
   },
   "outputs": [],
   "source": [
    "girlname = nameParse.filter(lambda x: x[3] == \"W\")"
   ]
  },
  {
   "cell_type": "code",
   "execution_count": 81,
   "metadata": {
    "collapsed": false
   },
   "outputs": [
    {
     "data": {
      "text/plain": [
       "[u'Aranza', u'607', u'4232', u'W']"
      ]
     },
     "execution_count": 81,
     "metadata": {},
     "output_type": "execute_result"
    }
   ],
   "source": [
    "girlname.first()"
   ]
  },
  {
   "cell_type": "code",
   "execution_count": 82,
   "metadata": {
    "collapsed": true
   },
   "outputs": [],
   "source": [
    "boypredict = boyname.map(lambda p: (p[0], int((int(p[1]) + int(p[2])) / 2)) )"
   ]
  },
  {
   "cell_type": "code",
   "execution_count": 83,
   "metadata": {
    "collapsed": false
   },
   "outputs": [
    {
     "data": {
      "text/plain": [
       "(u'Bode', 1105)"
      ]
     },
     "execution_count": 83,
     "metadata": {},
     "output_type": "execute_result"
    }
   ],
   "source": [
    "boypredict.first()"
   ]
  },
  {
   "cell_type": "code",
   "execution_count": 84,
   "metadata": {
    "collapsed": false
   },
   "outputs": [
    {
     "name": "stdout",
     "output_type": "stream",
     "text": [
      "Boyname Noah has popularities of 1.000000 in 2016\n",
      "Boyname Liam has popularities of 2.000000 in 2016\n",
      "Boyname Jacob has popularities of 3.000000 in 2016\n",
      "Boyname Mason has popularities of 3.000000 in 2016\n",
      "Boyname William has popularities of 5.000000 in 2016\n",
      "Boyname Ethan has popularities of 6.000000 in 2016\n",
      "Boyname Michael has popularities of 7.000000 in 2016\n",
      "Boyname Alexander has popularities of 8.000000 in 2016\n",
      "Boyname Daniel has popularities of 10.000000 in 2016\n",
      "Boyname Elijah has popularities of 11.000000 in 2016\n"
     ]
    }
   ],
   "source": [
    "ppTop10=[]\n",
    "nameTop10=[]\n",
    "for pair in boypredict.map(lambda (x,y) : (y,x)).takeOrdered(10):\n",
    "    ppTop10.append(pair[0])\n",
    "    nameTop10.append(pair[1])\n",
    "    print \"Boyname %s has popularities of %f in 2016\" % (pair[1],pair[0])"
   ]
  },
  {
   "cell_type": "code",
   "execution_count": 85,
   "metadata": {
    "collapsed": true
   },
   "outputs": [],
   "source": [
    "drawppTop10=[]\n",
    "for k in ppTop10:\n",
    "    drawppTop10.append(int(11 - k))"
   ]
  },
  {
   "cell_type": "code",
   "execution_count": 86,
   "metadata": {
    "collapsed": false
   },
   "outputs": [
    {
     "data": {
      "image/png": "[encoded data removed]",
      "text/plain": [
       "<matplotlib.figure.Figure at 0x7f3ed82cf590>"
      ]
     },
     "metadata": {},
     "output_type": "display_data"
    }
   ],
   "source": [
    "%matplotlib inline\n",
    "import numpy as np\n",
    "import matplotlib.pyplot as plt\n",
    "\n",
    "N = 10\n",
    "index = np.arange(N)  \n",
    "bar_width = 0.5\n",
    "\n",
    "plt.bar(index, drawppTop10, bar_width,\n",
    "                 color='b')\n",
    "plt.xlabel('Boys Name')\n",
    "plt.ylabel('Popularity (10 is the most popular)')\n",
    "plt.title('Top 10 popular boys name in 2016')\n",
    "plt.xticks(index + bar_width, nameTop10, rotation=90)\n",
    "plt.show()"
   ]
  },
  {
   "cell_type": "code",
   "execution_count": 87,
   "metadata": {
    "collapsed": true
   },
   "outputs": [],
   "source": [
    "girlpredict = girlname.map(lambda p: (p[0], int((int(p[1]) + int(p[2])) / 2)) )"
   ]
  },
  {
   "cell_type": "code",
   "execution_count": 88,
   "metadata": {
    "collapsed": false
   },
   "outputs": [
    {
     "data": {
      "text/plain": [
       "(u'Aranza', 2419)"
      ]
     },
     "execution_count": 88,
     "metadata": {},
     "output_type": "execute_result"
    }
   ],
   "source": [
    "girlpredict.first()"
   ]
  },
  {
   "cell_type": "code",
   "execution_count": 89,
   "metadata": {
    "collapsed": false
   },
   "outputs": [
    {
     "name": "stdout",
     "output_type": "stream",
     "text": [
      "Girlname Emma has popularities of 1.000000 in 2016\n",
      "Girlname Olivia has popularities of 2.000000 in 2016\n",
      "Girlname Sophia has popularities of 2.000000 in 2016\n",
      "Girlname Isabella has popularities of 4.000000 in 2016\n",
      "Girlname Ava has popularities of 5.000000 in 2016\n",
      "Girlname Mia has popularities of 6.000000 in 2016\n",
      "Girlname Emily has popularities of 7.000000 in 2016\n",
      "Girlname Abigail has popularities of 8.000000 in 2016\n",
      "Girlname Madison has popularities of 9.000000 in 2016\n",
      "Girlname Charlotte has popularities of 10.000000 in 2016\n"
     ]
    }
   ],
   "source": [
    "gppTop10=[]\n",
    "gnameTop10=[]\n",
    "for pair in girlpredict.map(lambda (x,y) : (y,x)).takeOrdered(10):\n",
    "    gppTop10.append(pair[0])\n",
    "    gnameTop10.append(pair[1])\n",
    "    print \"Girlname %s has popularities of %f in 2016\" % (pair[1],pair[0])"
   ]
  },
  {
   "cell_type": "code",
   "execution_count": 90,
   "metadata": {
    "collapsed": false
   },
   "outputs": [],
   "source": [
    "drawgppTop10=[]\n",
    "for k in gppTop10:\n",
    "    drawgppTop10.append(int(11 - k))"
   ]
  },
  {
   "cell_type": "code",
   "execution_count": 91,
   "metadata": {
    "collapsed": false
   },
   "outputs": [
    {
     "data": {
      "image/png": "[encoded data removed]",
      "text/plain": [
       "<matplotlib.figure.Figure at 0x7f3ed8205690>"
      ]
     },
     "metadata": {},
     "output_type": "display_data"
    }
   ],
   "source": [
    "%matplotlib inline\n",
    "import numpy as np\n",
    "import matplotlib.pyplot as plt\n",
    "\n",
    "N = 10\n",
    "index = np.arange(N)  \n",
    "bar_width = 0.5\n",
    "\n",
    "plt.bar(index, drawgppTop10, bar_width,\n",
    "                 color='b')\n",
    "plt.xlabel('Girls Name')\n",
    "plt.ylabel('Popularity (10 is the most popular)')\n",
    "plt.title('Top 10 popular girls name in 2016')\n",
    "plt.xticks(index + bar_width, gnameTop10, rotation=90)\n",
    "plt.show()"
   ]
  },
  {
   "cell_type": "code",
   "execution_count": null,
   "metadata": {
    "collapsed": true
   },
   "outputs": [],
   "source": []
  }
 ],
 "metadata": {
  "kernelspec": {
   "display_name": "Python 2",
   "language": "python",
   "name": "python2"
  },
  "language_info": {
   "codemirror_mode": {
    "name": "ipython",
    "version": 2
   },
   "file_extension": ".py",
   "mimetype": "text/x-python",
   "name": "python",
   "nbconvert_exporter": "python",
   "pygments_lexer": "ipython2",
   "version": "2.7.9"
  }
 },
 "nbformat": 4,
 "nbformat_minor": 0
}